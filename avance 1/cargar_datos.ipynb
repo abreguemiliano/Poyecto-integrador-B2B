{
 "cells": [
  {
   "cell_type": "markdown",
   "id": "2b2c27db",
   "metadata": {},
   "source": [
    "En esta seccion cargamos los datos"
   ]
  },
  {
   "cell_type": "code",
   "execution_count": 2,
   "id": "9e36c70d",
   "metadata": {},
   "outputs": [],
   "source": [
    "import pandas as pd\n",
    "from db_config import engine  # Asegurate de que db_config.py esté en el mismo directorio o en el PYTHONPATH"
   ]
  },
  {
   "cell_type": "markdown",
   "id": "77a4130c",
   "metadata": {},
   "source": [
    "Leemos el csv en un data frame y mostramos los primeros registros para verificar"
   ]
  },
  {
   "cell_type": "code",
   "execution_count": 99,
   "id": "cb5d6ec9",
   "metadata": {},
   "outputs": [
    {
     "name": "stdout",
     "output_type": "stream",
     "text": [
      "Primeros registros del DataFrame de usuarios:\n",
      "<class 'pandas.core.frame.DataFrame'>\n",
      "RangeIndex: 1000 entries, 0 to 999\n",
      "Data columns (total 5 columns):\n",
      " #   Column      Non-Null Count  Dtype \n",
      "---  ------      --------------  ----- \n",
      " 0   Nombre      1000 non-null   object\n",
      " 1   Apellido    1000 non-null   object\n",
      " 2   DNI         1000 non-null   int64 \n",
      " 3   Email       1000 non-null   object\n",
      " 4   Contraseña  1000 non-null   object\n",
      "dtypes: int64(1), object(4)\n",
      "memory usage: 39.2+ KB\n",
      "None\n"
     ]
    }
   ],
   "source": [
    "df_usuarios = pd.read_csv('data/2.Usuarios.csv')\n",
    "print(\"Primeros registros del DataFrame de usuarios:\")\n",
    "print(df_usuarios.info())\n"
   ]
  },
  {
   "cell_type": "markdown",
   "id": "186d349d",
   "metadata": {},
   "source": [
    "Conversion de tipos de datos"
   ]
  },
  {
   "cell_type": "code",
   "execution_count": 100,
   "id": "381fb37c",
   "metadata": {},
   "outputs": [
    {
     "name": "stdout",
     "output_type": "stream",
     "text": [
      "<class 'pandas.core.frame.DataFrame'>\n",
      "RangeIndex: 1000 entries, 0 to 999\n",
      "Data columns (total 5 columns):\n",
      " #   Column      Non-Null Count  Dtype \n",
      "---  ------      --------------  ----- \n",
      " 0   Nombre      1000 non-null   string\n",
      " 1   Apellido    1000 non-null   string\n",
      " 2   DNI         1000 non-null   int64 \n",
      " 3   Email       1000 non-null   string\n",
      " 4   contrasena  1000 non-null   string\n",
      "dtypes: int64(1), string(4)\n",
      "memory usage: 39.2 KB\n",
      "None\n"
     ]
    }
   ],
   "source": [
    "#convertir a tipo string\n",
    "df_usuarios['Nombre'] = df_usuarios['Nombre'].astype(\"string\")\n",
    "\n",
    "df_usuarios['Apellido'] = df_usuarios['Apellido'].astype(\"string\")\n",
    "\n",
    "df_usuarios['Email'] = df_usuarios['Email'].astype(\"string\")\n",
    "\n",
    "df_usuarios['DNI'] = df_usuarios['DNI'].astype(int)\n",
    "\n",
    "df_usuarios.rename(columns={'Contraseña': 'contrasena'}, inplace=True)\n",
    "\n",
    "df_usuarios['contrasena'] = df_usuarios['contrasena'].astype(\"string\")\n",
    "\n",
    "print(df_usuarios.info())\n",
    "\n",
    "df_usuarios.columns = df_usuarios.columns.str.lower()\n",
    "\n",
    "#eliminar duplicados\n",
    "\n",
    "df_usuarios = df_usuarios.drop_duplicates(keep=\"first\")\n",
    "\n"
   ]
  },
  {
   "cell_type": "markdown",
   "id": "9c88b7c6",
   "metadata": {},
   "source": [
    "Cargar el DataFrame en la base de datos"
   ]
  },
  {
   "cell_type": "code",
   "execution_count": 101,
   "id": "5f195dac",
   "metadata": {},
   "outputs": [
    {
     "name": "stdout",
     "output_type": "stream",
     "text": [
      "✅ Datos insertados correctamente.\n"
     ]
    }
   ],
   "source": [
    "try:\n",
    "    df_usuarios.to_sql('dim_usuarios', con=engine, if_exists='append', index=False)\n",
    "    print(\"✅ Datos insertados correctamente.\")\n",
    "except Exception as e:\n",
    "    print(\"❌ Error al insertar:\")\n",
    "    print(e)\n",
    "    print(\"✅ Datos cargados exitosamente en la tabla 'dim_usuarios'.\")"
   ]
  },
  {
   "cell_type": "markdown",
   "id": "d29f200b",
   "metadata": {},
   "source": [
    "Categorias"
   ]
  },
  {
   "cell_type": "code",
   "execution_count": 102,
   "id": "bb6423f1",
   "metadata": {},
   "outputs": [
    {
     "name": "stdout",
     "output_type": "stream",
     "text": [
      "Primeros registros del DataFrame de categorias:\n",
      "<class 'pandas.core.frame.DataFrame'>\n",
      "RangeIndex: 12 entries, 0 to 11\n",
      "Data columns (total 2 columns):\n",
      " #   Column       Non-Null Count  Dtype \n",
      "---  ------       --------------  ----- \n",
      " 0   Nombre       12 non-null     object\n",
      " 1   Descripcion  12 non-null     object\n",
      "dtypes: object(2)\n",
      "memory usage: 324.0+ bytes\n",
      "None\n"
     ]
    }
   ],
   "source": [
    "df_categorias = pd.read_csv('data/3.Categorias.csv')\n",
    "print(\"Primeros registros del DataFrame de categorias:\")\n",
    "print(df_categorias.info())\n"
   ]
  },
  {
   "cell_type": "code",
   "execution_count": 103,
   "id": "8c2ec915",
   "metadata": {},
   "outputs": [
    {
     "name": "stdout",
     "output_type": "stream",
     "text": [
      "<class 'pandas.core.frame.DataFrame'>\n",
      "RangeIndex: 12 entries, 0 to 11\n",
      "Data columns (total 2 columns):\n",
      " #   Column       Non-Null Count  Dtype \n",
      "---  ------       --------------  ----- \n",
      " 0   Nombre       12 non-null     string\n",
      " 1   Descripcion  12 non-null     string\n",
      "dtypes: string(2)\n",
      "memory usage: 324.0 bytes\n",
      "None\n"
     ]
    }
   ],
   "source": [
    "#convertir a tipo string\n",
    "df_categorias['Nombre'] = df_categorias['Nombre'].astype(\"string\")\n",
    "\n",
    "df_categorias['Descripcion'] = df_categorias['Descripcion'].astype(\"string\")\n",
    "\n",
    "print(df_categorias.info())"
   ]
  },
  {
   "cell_type": "markdown",
   "id": "375cf86c",
   "metadata": {},
   "source": [
    "Cargar el DataFrame de catetgorias en la base de datos"
   ]
  },
  {
   "cell_type": "code",
   "execution_count": 104,
   "id": "651351b5",
   "metadata": {},
   "outputs": [
    {
     "name": "stdout",
     "output_type": "stream",
     "text": [
      "✅ Datos insertados correctamente.\n"
     ]
    }
   ],
   "source": [
    "\n",
    "\n",
    "df_categorias.columns = df_categorias.columns.str.lower()\n",
    "\n",
    "#eliminar duplicados\n",
    "\n",
    "df_categorias = df_categorias.drop_duplicates(keep=\"first\")\n",
    "\n",
    "try:\n",
    "    df_categorias.to_sql('dim_categorias', con=engine, if_exists='append', index=False)\n",
    "    print(\"✅ Datos insertados correctamente.\")\n",
    "except Exception as e:\n",
    "    print(\"❌ Error al insertar:\")\n",
    "    print(e)"
   ]
  },
  {
   "cell_type": "markdown",
   "id": "2c2582e3",
   "metadata": {},
   "source": [
    "Productos"
   ]
  },
  {
   "cell_type": "code",
   "execution_count": 105,
   "id": "3574658b",
   "metadata": {},
   "outputs": [
    {
     "name": "stdout",
     "output_type": "stream",
     "text": [
      "<class 'pandas.core.frame.DataFrame'>\n",
      "RangeIndex: 36 entries, 0 to 35\n",
      "Data columns (total 5 columns):\n",
      " #   Column       Non-Null Count  Dtype  \n",
      "---  ------       --------------  -----  \n",
      " 0   nombre       36 non-null     string \n",
      " 1   descripcion  36 non-null     string \n",
      " 2   precio       36 non-null     float64\n",
      " 3   stock        36 non-null     int64  \n",
      " 4   categoriaid  36 non-null     int64  \n",
      "dtypes: float64(1), int64(2), string(2)\n",
      "memory usage: 1.5 KB\n",
      "None\n",
      "✅ Datos insertados correctamente.\n"
     ]
    }
   ],
   "source": [
    "df_productos = pd.read_csv('data/4.Productos.csv')\n",
    "\n",
    "df_productos['Nombre'] = df_productos['Nombre'].astype(\"string\")\n",
    "\n",
    "df_productos['Descripcion'] = df_productos['Descripcion'].astype(\"string\")\n",
    "\n",
    "df_productos.columns = df_productos.columns.str.lower()\n",
    "\n",
    "#eliminar duplicados\n",
    "\n",
    "df_productos = df_productos.drop_duplicates(keep=\"first\")\n",
    "\n",
    "print(df_productos.info())\n",
    "\n",
    "\n",
    "try:\n",
    "    df_productos.to_sql('dim_productos', con=engine, if_exists='append', index=False)\n",
    "    print(\"✅ Datos insertados correctamente.\")\n",
    "except Exception as e:\n",
    "    print(\"❌ Error al insertar:\")\n",
    "    print(e)\n",
    "\n",
    "\n"
   ]
  },
  {
   "cell_type": "markdown",
   "id": "1aed0bda",
   "metadata": {},
   "source": [
    "Ordenes"
   ]
  },
  {
   "cell_type": "code",
   "execution_count": 107,
   "id": "2ee986eb",
   "metadata": {},
   "outputs": [
    {
     "name": "stdout",
     "output_type": "stream",
     "text": [
      "<class 'pandas.core.frame.DataFrame'>\n",
      "RangeIndex: 10000 entries, 0 to 9999\n",
      "Data columns (total 4 columns):\n",
      " #   Column       Non-Null Count  Dtype         \n",
      "---  ------       --------------  -----         \n",
      " 0   usuario_id   10000 non-null  int64         \n",
      " 1   fecha_orden  10000 non-null  datetime64[ns]\n",
      " 2   total        10000 non-null  float64       \n",
      " 3   estado       10000 non-null  string        \n",
      "dtypes: datetime64[ns](1), float64(1), int64(1), string(1)\n",
      "memory usage: 312.6 KB\n",
      "None\n",
      "✅ Datos insertados correctamente.\n"
     ]
    }
   ],
   "source": [
    "df_ordenes = pd.read_csv('data/5.ordenes.csv')\n",
    "\n",
    "\n",
    "df_ordenes['FechaOrden'] = pd.to_datetime(df_ordenes['FechaOrden'], errors='coerce')\n",
    "\n",
    "df_ordenes['Estado'] = df_ordenes['Estado'].astype(\"string\")\n",
    "\n",
    "df_ordenes.rename(columns={'FechaOrden': 'fecha_orden'}, inplace=True)\n",
    "\n",
    "df_ordenes.rename(columns={'UsuarioID': 'usuario_id'}, inplace=True)\n",
    "\n",
    "df_ordenes.columns = df_ordenes.columns.str.lower()\n",
    "\n",
    "#eliminar duplicados\n",
    "\n",
    "df_ordenes = df_ordenes.drop_duplicates(keep=\"first\")\n",
    "\n",
    "print(df_ordenes.info())\n",
    "\n",
    "try:\n",
    "    df_ordenes.to_sql('fact_ordenes', con=engine, if_exists='append', index=False)\n",
    "    print(\"✅ Datos insertados correctamente.\")\n",
    "except Exception as e:\n",
    "    print(\"❌ Error al insertar:\")\n",
    "    print(e)"
   ]
  },
  {
   "cell_type": "markdown",
   "id": "5955a40d",
   "metadata": {},
   "source": [
    "Detalle ordenes"
   ]
  },
  {
   "cell_type": "code",
   "execution_count": 108,
   "id": "7cdf3804",
   "metadata": {},
   "outputs": [
    {
     "name": "stdout",
     "output_type": "stream",
     "text": [
      "<class 'pandas.core.frame.DataFrame'>\n",
      "RangeIndex: 10000 entries, 0 to 9999\n",
      "Data columns (total 4 columns):\n",
      " #   Column           Non-Null Count  Dtype  \n",
      "---  ------           --------------  -----  \n",
      " 0   orden_id         10000 non-null  int64  \n",
      " 1   producto_id      10000 non-null  int64  \n",
      " 2   cantidad         10000 non-null  int64  \n",
      " 3   precio_unitario  10000 non-null  float64\n",
      "dtypes: float64(1), int64(3)\n",
      "memory usage: 312.6 KB\n",
      "None\n",
      "✅ Datos insertados correctamente.\n"
     ]
    }
   ],
   "source": [
    "\n",
    "df_detalle_ordenes = pd.read_csv('data/6.detalle_ordenes.csv')\n",
    "\n",
    "df_detalle_ordenes.rename(columns={'OrdenID': 'orden_id'}, inplace=True)\n",
    "df_detalle_ordenes.rename(columns={'ProductoID': 'Producto_id'}, inplace=True)\n",
    "df_detalle_ordenes.rename(columns={'PrecioUnitario': 'precio_unitario'}, inplace=True)\n",
    "\n",
    "df_detalle_ordenes.columns = df_detalle_ordenes.columns.str.lower()\n",
    "\n",
    "#eliminar duplicados\n",
    "\n",
    "df_detalle_ordenes = df_detalle_ordenes.drop_duplicates(keep=\"first\")\n",
    "\n",
    "print(df_detalle_ordenes.info())\n",
    "\n",
    "\n",
    "try:\n",
    "    df_detalle_ordenes.to_sql('fact_detalle_ordenes', con=engine, if_exists='append', index=False)\n",
    "    print(\"✅ Datos insertados correctamente.\")\n",
    "except Exception as e:\n",
    "    print(\"❌ Error al insertar:\")\n",
    "    print(e)"
   ]
  },
  {
   "cell_type": "markdown",
   "id": "110bf248",
   "metadata": {},
   "source": [
    "direcciones envio"
   ]
  },
  {
   "cell_type": "code",
   "execution_count": null,
   "id": "00291b91",
   "metadata": {},
   "outputs": [
    {
     "name": "stdout",
     "output_type": "stream",
     "text": [
      "<class 'pandas.core.frame.DataFrame'>\n",
      "RangeIndex: 1000 entries, 0 to 999\n",
      "Data columns (total 9 columns):\n",
      " #   Column         Non-Null Count  Dtype \n",
      "---  ------         --------------  ----- \n",
      " 0   usuario_id     1000 non-null   int64 \n",
      " 1   calle          1000 non-null   string\n",
      " 2   ciudad         1000 non-null   string\n",
      " 3   departamento   1000 non-null   string\n",
      " 4   provincia      1000 non-null   string\n",
      " 5   distrito       1000 non-null   string\n",
      " 6   estado         1000 non-null   string\n",
      " 7   codigo_postal  1000 non-null   int64 \n",
      " 8   pais           1000 non-null   string\n",
      "dtypes: int64(2), string(7)\n",
      "memory usage: 70.4 KB\n",
      "None\n",
      "✅ Datos insertados correctamente.\n"
     ]
    }
   ],
   "source": [
    "\n",
    "df_direcciones_envio = pd.read_csv('data/7.direcciones_envio.csv')\n",
    "\n",
    "\n",
    "df_direcciones_envio['Calle'] = df_direcciones_envio['Calle'].astype(\"string\")\n",
    "\n",
    "df_direcciones_envio['Ciudad'] = df_direcciones_envio['Ciudad'].astype(\"string\")\n",
    "\n",
    "df_direcciones_envio['Departamento'] = df_direcciones_envio['Departamento'].astype(\"string\")\n",
    "\n",
    "df_direcciones_envio['Provincia'] = df_direcciones_envio['Provincia'].astype(\"string\")\n",
    "\n",
    "df_direcciones_envio['Distrito'] = df_direcciones_envio['Distrito'].astype(\"string\")\n",
    "\n",
    "df_direcciones_envio['Estado'] = df_direcciones_envio['Estado'].astype(\"string\")\n",
    "\n",
    "df_direcciones_envio['Pais'] = df_direcciones_envio['Pais'].astype(\"string\")\n",
    "\n",
    "df_direcciones_envio.columns = df_direcciones_envio.columns.str.lower()\n",
    "\n",
    "df_direcciones_envio.rename(columns={'usuarioid': 'usuario_id'}, inplace=True)\n",
    "\n",
    "df_direcciones_envio.rename(columns={'codigopostal': 'codigo_postal'}, inplace=True)\n",
    "\n",
    "#eliminar duplicados\n",
    "\n",
    "df_direcciones_envio = df_direcciones_envio.drop_duplicates(keep=\"first\")\n",
    "\n",
    "print(df_direcciones_envio.info())\n",
    "\n",
    "\n",
    "try:\n",
    "    df_direcciones_envio.to_sql('dim_direcciones_envio', con=engine, if_exists='append', index=False)\n",
    "    print(\"✅ Datos insertados correctamente.\")\n",
    "except Exception as e:\n",
    "    print(\"❌ Error al insertar:\")\n",
    "    print(e)"
   ]
  },
  {
   "cell_type": "markdown",
   "id": "2a00e81e",
   "metadata": {},
   "source": [
    "Carrito"
   ]
  },
  {
   "cell_type": "code",
   "execution_count": 110,
   "id": "aa93cf4f",
   "metadata": {},
   "outputs": [
    {
     "name": "stdout",
     "output_type": "stream",
     "text": [
      "<class 'pandas.core.frame.DataFrame'>\n",
      "RangeIndex: 5000 entries, 0 to 4999\n",
      "Data columns (total 4 columns):\n",
      " #   Column          Non-Null Count  Dtype         \n",
      "---  ------          --------------  -----         \n",
      " 0   usuario_id      5000 non-null   int64         \n",
      " 1   producto_id     5000 non-null   int64         \n",
      " 2   cantidad        5000 non-null   int64         \n",
      " 3   fecha_agregado  5000 non-null   datetime64[ns]\n",
      "dtypes: datetime64[ns](1), int64(3)\n",
      "memory usage: 156.4 KB\n",
      "None\n",
      "✅ Datos insertados correctamente.\n"
     ]
    }
   ],
   "source": [
    "df_carrito = pd.read_csv('data/8.carrito.csv')\n",
    "\n",
    "df_carrito['FechaAgregado'] = pd.to_datetime(df_carrito['FechaAgregado'], errors='coerce')\n",
    "\n",
    "df_carrito.columns = df_carrito.columns.str.lower()\n",
    "\n",
    "df_carrito.rename(columns={'usuarioid': 'usuario_id'}, inplace=True)\n",
    "\n",
    "df_carrito.rename(columns={'productoid': 'producto_id'}, inplace=True)\n",
    "\n",
    "df_carrito.rename(columns={'fechaagregado': 'fecha_agregado'}, inplace=True)\n",
    "\n",
    "#eliminar duplicados\n",
    "\n",
    "df_carrito = df_carrito.drop_duplicates(keep=\"first\")\n",
    "\n",
    "print(df_carrito.info())\n",
    "\n",
    "try:\n",
    "    df_carrito.to_sql('fact_carrito', con=engine, if_exists='append', index=False)\n",
    "    print(\"✅ Datos insertados correctamente.\")\n",
    "except Exception as e:\n",
    "    print(\"❌ Error al insertar:\")\n",
    "    print(e)\n"
   ]
  },
  {
   "cell_type": "markdown",
   "id": "2b1e06ca",
   "metadata": {},
   "source": [
    "metodos pago"
   ]
  },
  {
   "cell_type": "code",
   "execution_count": 7,
   "id": "987a391f",
   "metadata": {},
   "outputs": [
    {
     "name": "stdout",
     "output_type": "stream",
     "text": [
      "<class 'pandas.core.frame.DataFrame'>\n",
      "RangeIndex: 7 entries, 0 to 6\n",
      "Data columns (total 2 columns):\n",
      " #   Column       Non-Null Count  Dtype \n",
      "---  ------       --------------  ----- \n",
      " 0   nombre       7 non-null      string\n",
      " 1   descripcion  7 non-null      string\n",
      "dtypes: string(2)\n",
      "memory usage: 244.0 bytes\n",
      "None\n",
      "✅ Datos insertados correctamente.\n"
     ]
    }
   ],
   "source": [
    "\n",
    "df_metodos_pago = pd.read_csv('data/9.metodos_pago.csv')\n",
    "\n",
    "df_metodos_pago['Nombre'] = df_metodos_pago['Nombre'].astype(\"string\")\n",
    "\n",
    "df_metodos_pago['Descripcion'] = df_metodos_pago['Descripcion'].astype(\"string\")\n",
    "\n",
    "df_metodos_pago.columns = df_metodos_pago.columns.str.lower()\n",
    "\n",
    "#eliminar duplicados\n",
    "\n",
    "df_metodos_pago = df_metodos_pago.drop_duplicates(keep=\"first\")\n",
    "\n",
    "print(df_metodos_pago.info())\n",
    "\n",
    "try:\n",
    "    df_metodos_pago.to_sql('dim_metodos_pago', con=engine, if_exists='append', index=False)\n",
    "    print(\"✅ Datos insertados correctamente.\")\n",
    "except Exception as e:\n",
    "    print(\"❌ Error al insertar:\")\n",
    "    print(e)\n"
   ]
  },
  {
   "cell_type": "markdown",
   "id": "14b44cb5",
   "metadata": {},
   "source": [
    "ordenes pago"
   ]
  },
  {
   "cell_type": "code",
   "execution_count": 114,
   "id": "75fc2a2b",
   "metadata": {},
   "outputs": [
    {
     "name": "stdout",
     "output_type": "stream",
     "text": [
      "<class 'pandas.core.frame.DataFrame'>\n",
      "RangeIndex: 10000 entries, 0 to 9999\n",
      "Data columns (total 3 columns):\n",
      " #   Column          Non-Null Count  Dtype  \n",
      "---  ------          --------------  -----  \n",
      " 0   orden_id        10000 non-null  int64  \n",
      " 1   metodo_pago_id  10000 non-null  int64  \n",
      " 2   monto_pagado    10000 non-null  float64\n",
      "dtypes: float64(1), int64(2)\n",
      "memory usage: 234.5 KB\n",
      "None\n",
      "✅ Datos insertados correctamente.\n"
     ]
    }
   ],
   "source": [
    "\n",
    "\n",
    "df_ordenes_metodospago = pd.read_csv('data/10.ordenes_metodospago.csv')\n",
    "\n",
    "df_ordenes_metodospago.columns = df_ordenes_metodospago.columns.str.lower()\n",
    "\n",
    "df_ordenes_metodospago.rename(columns={'ordenid': 'orden_id'}, inplace=True)\n",
    "\n",
    "df_ordenes_metodospago.rename(columns={'metodopagoid': 'metodo_pago_id'}, inplace=True)\n",
    "\n",
    "df_ordenes_metodospago.rename(columns={'montopagado': 'monto_pagado'}, inplace=True)\n",
    "\n",
    "#eliminar duplicados\n",
    "\n",
    "df_ordenes_metodospago = df_ordenes_metodospago.drop_duplicates(keep=\"first\")\n",
    "\n",
    "print(df_ordenes_metodospago.info())\n",
    "\n",
    "\n",
    "\n",
    "\n",
    "try:\n",
    "    df_ordenes_metodospago.to_sql('fact_ordenes_metodo_pago', con=engine, if_exists='append', index=False)\n",
    "    print(\"✅ Datos insertados correctamente.\")\n",
    "except Exception as e:\n",
    "    print(\"❌ Error al insertar:\")\n",
    "    print(e)\n"
   ]
  },
  {
   "cell_type": "markdown",
   "id": "cb3ca088",
   "metadata": {},
   "source": [
    "reseñas productos"
   ]
  },
  {
   "cell_type": "code",
   "execution_count": 115,
   "id": "49b7be6c",
   "metadata": {},
   "outputs": [
    {
     "name": "stdout",
     "output_type": "stream",
     "text": [
      "✅ Datos insertados correctamente.\n",
      "<class 'pandas.core.frame.DataFrame'>\n",
      "RangeIndex: 7172 entries, 0 to 7171\n",
      "Data columns (total 5 columns):\n",
      " #   Column        Non-Null Count  Dtype         \n",
      "---  ------        --------------  -----         \n",
      " 0   usuario_id    7172 non-null   int64         \n",
      " 1   producto_id   7172 non-null   int64         \n",
      " 2   calificacion  7172 non-null   int64         \n",
      " 3   comentario    7172 non-null   string        \n",
      " 4   fecha         7172 non-null   datetime64[ns]\n",
      "dtypes: datetime64[ns](1), int64(3), string(1)\n",
      "memory usage: 280.3 KB\n",
      "None\n"
     ]
    }
   ],
   "source": [
    "df_opiniones = pd.read_csv('data/11.resenas_productos.csv')\n",
    "\n",
    "df_opiniones['Comentario'] = df_opiniones['Comentario'].astype(\"string\")\n",
    "\n",
    "df_opiniones['Fecha'] = pd.to_datetime(df_opiniones['Fecha'], errors='coerce')\n",
    "\n",
    "df_opiniones.columns = df_opiniones.columns.str.lower()\n",
    "\n",
    "df_opiniones.rename(columns={'usuarioid': 'usuario_id'}, inplace=True)\n",
    "\n",
    "df_opiniones.rename(columns={'productoid': 'producto_id'}, inplace=True)\n",
    "\n",
    "#eliminar duplicados\n",
    "\n",
    "df_opiniones = df_opiniones.drop_duplicates(keep=\"first\")\n",
    "\n",
    "try:\n",
    "    df_opiniones.to_sql('fact_resenas_productos', con=engine, if_exists='append', index=False)\n",
    "    print(\"✅ Datos insertados correctamente.\")\n",
    "except Exception as e:\n",
    "    print(\"❌ Error al insertar:\")\n",
    "    print(e)\n",
    "\n",
    "print(df_opiniones.info())\n"
   ]
  },
  {
   "cell_type": "markdown",
   "id": "f53cc70a",
   "metadata": {},
   "source": [
    "historial pagos"
   ]
  },
  {
   "cell_type": "code",
   "execution_count": 117,
   "id": "52bdf2cc",
   "metadata": {},
   "outputs": [
    {
     "name": "stdout",
     "output_type": "stream",
     "text": [
      "✅ Datos insertados correctamente.\n",
      "<class 'pandas.core.frame.DataFrame'>\n",
      "RangeIndex: 10000 entries, 0 to 9999\n",
      "Data columns (total 5 columns):\n",
      " #   Column          Non-Null Count  Dtype         \n",
      "---  ------          --------------  -----         \n",
      " 0   orden_id        10000 non-null  int64         \n",
      " 1   metodo_pago_id  10000 non-null  int64         \n",
      " 2   monto           10000 non-null  float64       \n",
      " 3   fecha_pago      10000 non-null  datetime64[ns]\n",
      " 4   estado_pago     10000 non-null  string        \n",
      "dtypes: datetime64[ns](1), float64(1), int64(2), string(1)\n",
      "memory usage: 390.8 KB\n",
      "None\n"
     ]
    }
   ],
   "source": [
    "\n",
    "\n",
    "df_historial_pagos = pd.read_csv('data/12.historial_pagos.csv')\n",
    "\n",
    "\n",
    "df_historial_pagos['EstadoPago'] = df_historial_pagos['EstadoPago'].astype(\"string\")\n",
    "\n",
    "df_historial_pagos['FechaPago'] = pd.to_datetime(df_historial_pagos['FechaPago'], errors='coerce')\n",
    "\n",
    "df_historial_pagos.columns = df_historial_pagos.columns.str.lower()\n",
    "\n",
    "df_historial_pagos.rename(columns={'ordenid': 'orden_id'}, inplace=True)\n",
    "\n",
    "df_historial_pagos.rename(columns={'metodopagoid': 'metodo_pago_id'}, inplace=True)\n",
    "\n",
    "df_historial_pagos.rename(columns={'fechapago': 'fecha_pago'}, inplace=True)\n",
    "\n",
    "df_historial_pagos.rename(columns={'estadopago': 'estado_pago'}, inplace=True)\n",
    "\n",
    "#eliminar duplicados\n",
    "\n",
    "df_historial_pagos = df_historial_pagos.drop_duplicates(keep=\"first\")\n",
    "\n",
    "\n",
    "\n",
    "try:\n",
    "    df_historial_pagos.to_sql('fact_historial_pagos', con=engine, if_exists='append', index=False)\n",
    "    print(\"✅ Datos insertados correctamente.\")\n",
    "except Exception as e:\n",
    "    print(\"❌ Error al insertar:\")\n",
    "    print(e)\n",
    "\n",
    "\n",
    "print(df_historial_pagos.info())\n"
   ]
  }
 ],
 "metadata": {
  "kernelspec": {
   "display_name": "Python 3",
   "language": "python",
   "name": "python3"
  },
  "language_info": {
   "codemirror_mode": {
    "name": "ipython",
    "version": 3
   },
   "file_extension": ".py",
   "mimetype": "text/x-python",
   "name": "python",
   "nbconvert_exporter": "python",
   "pygments_lexer": "ipython3",
   "version": "3.13.5"
  }
 },
 "nbformat": 4,
 "nbformat_minor": 5
}
