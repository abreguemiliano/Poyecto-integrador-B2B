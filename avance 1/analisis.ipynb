{
 "cells": [
  {
   "cell_type": "markdown",
   "id": "605d9ebb",
   "metadata": {},
   "source": [
    "Analisis exploratorio: \n",
    "\n",
    "Como primer paso cargamos los dataframes para su analisis."
   ]
  },
  {
   "cell_type": "code",
   "execution_count": null,
   "id": "7efd4f16",
   "metadata": {},
   "outputs": [],
   "source": [
    "import pandas as pd\n",
    "from db_config import engine \n",
    "\n",
    "\n",
    "\n",
    "df_ordenes = pd.read_sql('SELECT * FROM fact_ordenes', con=engine)\n",
    "df_detalle_ordenes = pd.read_sql('SELECT * FROM fact_detalle_ordenes', con=engine)\n",
    "df_usuarios = pd.read_sql('SELECT * FROM dim_usuarios', con=engine)\n",
    "df_categorias = pd.read_sql('SELECT * FROM dim_categorias', con=engine)\n",
    "df_productos = pd.read_sql('SELECT * FROM dim_productos', con=engine)\n",
    "df_metodos_pago = pd.read_sql('SELECT * FROM dim_metodos_pago', con=engine)\n",
    "df_direcciones_envio = pd.read_sql('SELECT * FROM dim_direcciones_envio', con=engine)\n",
    "df_carrito = pd.read_sql('SELECT * FROM fact_carrito', con=engine)\n",
    "df_ordenes_metodo_pago = pd.read_sql('SELECT * FROM fact_ordenes_metodo_pago', con=engine)\n",
    "df_resenas_productos = pd.read_sql('SELECT * FROM fact_resenas_productos', con=engine)\n",
    "df_historial_pagos = pd.read_sql('SELECT * FROM fact_historial_pagos', con=engine)\n",
    "\n"
   ]
  },
  {
   "cell_type": "markdown",
   "id": "cc278282",
   "metadata": {},
   "source": [
    "Detección de valores nulos\n",
    "El siguiente scrip detecta valores nulos o extraños que representen vacios, la implementacion se realiza sobre todos los dataframes al mismo tiempo ya que previamente sabemos que no hay valores nulos."
   ]
  },
  {
   "cell_type": "code",
   "execution_count": 17,
   "id": "dd6096f0",
   "metadata": {},
   "outputs": [
    {
     "name": "stdout",
     "output_type": "stream",
     "text": [
      "No NAN representation found in columns\n",
      "No NAN representation found in columns\n",
      "No NAN representation found in columns\n",
      "No NAN representation found in columns\n",
      "No NAN representation found in columns\n",
      "No NAN representation found in columns\n",
      "No NAN representation found in columns\n",
      "No NAN representation found in columns\n",
      "No NAN representation found in columns\n",
      "No NAN representation found in columns\n",
      "No NAN representation found in columns\n"
     ]
    }
   ],
   "source": [
    "def find_weird_NAN_representations(df: pd.DataFrame) -> None:\n",
    "    nan_representations = [\"NA\", \"N/A\", \"null\", \"NULL\", \"nan\", \"NaN\", \"\", \" \", \"?\"]\n",
    "    columns = []\n",
    "    for column in df.columns:\n",
    "        # Convertir a string para comparar correctamente\n",
    "        col_as_str = df[column].astype(str)\n",
    "        if col_as_str.isin(nan_representations).any():\n",
    "            columns.append(column)\n",
    "    print(f\"NAN representation found for columns {columns}\" if columns else \"No NAN representation found in columns\")\n",
    "\n",
    "\n",
    "# implementación\n",
    "\n",
    "find_weird_NAN_representations(df_ordenes)\n",
    "find_weird_NAN_representations(df_detalle_ordenes)\n",
    "find_weird_NAN_representations(df_usuarios)\n",
    "find_weird_NAN_representations(df_categorias)\n",
    "find_weird_NAN_representations(df_productos)\n",
    "find_weird_NAN_representations(df_metodos_pago)\n",
    "find_weird_NAN_representations(df_direcciones_envio)\n",
    "find_weird_NAN_representations(df_carrito)\n",
    "find_weird_NAN_representations(df_ordenes_metodo_pago)\n",
    "find_weird_NAN_representations(df_resenas_productos)\n",
    "find_weird_NAN_representations(df_historial_pagos)\n",
    "\n"
   ]
  },
  {
   "cell_type": "markdown",
   "id": "bf6b3f09",
   "metadata": {},
   "source": [
    "Analisis de porcentaje de nulos en los dataframes"
   ]
  },
  {
   "cell_type": "code",
   "execution_count": null,
   "id": "a73c114e",
   "metadata": {},
   "outputs": [],
   "source": [
    "\n",
    "print(df_ordenes.isnull().sum() / len(df_ordenes) * 100)\n",
    "print(df_detalle_ordenes.isnull().sum() / len(df_detalle_ordenes) * 100)\n",
    "print(df_categorias.isnull().sum() / len(df_categorias) * 100)\n",
    "print(df_usuarios.isnull().sum() / len(df_usuarios) * 100)\n",
    "print(df_metodos_pago.isnull().sum() / len(df_metodos_pago) * 100)\n",
    "print(df_productos.isnull().sum() / len(df_productos) * 100)\n",
    "print(df_direcciones_envio.isnull().sum() / len(df_direcciones_envio) * 100)\n",
    "print(df_carrito.isnull().sum() / len(df_carrito) * 100)\n",
    "print(df_ordenes_metodo_pago.isnull().sum() / len(df_ordenes_metodo_pago) * 100)\n",
    "print(df_resenas_productos.isnull().sum() / len(df_resenas_productos) * 100)\n",
    "print(df_historial_pagos.isnull().sum() / len(df_historial_pagos) * 100)\n",
    "\n",
    "\n",
    "\n",
    "\n"
   ]
  },
  {
   "cell_type": "markdown",
   "id": "b029ecac",
   "metadata": {},
   "source": [
    "Analisis por dataframe\n",
    "dim_categorias\n",
    "no es necesaria mayor validacion ya que los datos se encuentran correctos."
   ]
  },
  {
   "cell_type": "code",
   "execution_count": null,
   "id": "a1c52be2",
   "metadata": {},
   "outputs": [],
   "source": [
    "print(df_categorias.head())"
   ]
  },
  {
   "cell_type": "markdown",
   "id": "4c2864fb",
   "metadata": {},
   "source": [
    "Analisis por dataframe\n",
    "dim_metodos_pago\n",
    "no es necesaria mayor validacion ya que los datos se encuentran correctos."
   ]
  },
  {
   "cell_type": "code",
   "execution_count": null,
   "id": "749c7358",
   "metadata": {},
   "outputs": [],
   "source": [
    "print(df_metodos_pago.head())"
   ]
  },
  {
   "cell_type": "markdown",
   "id": "7fa79326",
   "metadata": {},
   "source": [
    "Analisis por dataframe\n",
    "dim_productos\n",
    "analizaremos que los campos precio stock y categoria id sean datos numericos.\n"
   ]
  },
  {
   "cell_type": "code",
   "execution_count": null,
   "id": "3fa08368",
   "metadata": {},
   "outputs": [
    {
     "data": {
      "application/vnd.microsoft.datawrangler.viewer.v0+json": {
       "columns": [
        {
         "name": "index",
         "rawType": "int64",
         "type": "integer"
        },
        {
         "name": "Column",
         "rawType": "float64",
         "type": "float"
        },
        {
         "name": "Weird_Values",
         "rawType": "float64",
         "type": "float"
        }
       ],
       "ref": "7f748de1-3ddf-4ba5-b10f-2db6dcf0535d",
       "rows": [],
       "shape": {
        "columns": 2,
        "rows": 0
       }
      },
      "text/html": [
       "<div>\n",
       "<style scoped>\n",
       "    .dataframe tbody tr th:only-of-type {\n",
       "        vertical-align: middle;\n",
       "    }\n",
       "\n",
       "    .dataframe tbody tr th {\n",
       "        vertical-align: top;\n",
       "    }\n",
       "\n",
       "    .dataframe thead th {\n",
       "        text-align: right;\n",
       "    }\n",
       "</style>\n",
       "<table border=\"1\" class=\"dataframe\">\n",
       "  <thead>\n",
       "    <tr style=\"text-align: right;\">\n",
       "      <th></th>\n",
       "      <th>Column</th>\n",
       "      <th>Weird_Values</th>\n",
       "    </tr>\n",
       "  </thead>\n",
       "  <tbody>\n",
       "  </tbody>\n",
       "</table>\n",
       "</div>"
      ],
      "text/plain": [
       "Empty DataFrame\n",
       "Columns: [Column, Weird_Values]\n",
       "Index: []"
      ]
     },
     "execution_count": 27,
     "metadata": {},
     "output_type": "execute_result"
    }
   ],
   "source": [
    "\n",
    "from pandas import DataFrame\n",
    "\n",
    "def find_weird_values_for_columns(df: DataFrame, numeric_columns: list[str]) -> DataFrame:\n",
    "    copy_df = df.copy()\n",
    "    columns = []\n",
    "    masks = []\n",
    "    for column in numeric_columns:\n",
    "        copy_df[column] = copy_df[column].astype(str)\n",
    "        mask = ~copy_df[column].str.match(r\"^-?\\d+\\.?\\d*$\", na=True)\n",
    "        if len(df[mask][column].unique()) > 0:\n",
    "            columns.append(column)\n",
    "            masks.append(df[mask][column].unique())\n",
    "    return DataFrame({\"Column\": columns, \"Weird_Values\": masks})\n",
    "\n",
    "find_weird_values_for_columns(df_productos, [\"stock\",\"precio\",\"categoriaid\"])"
   ]
  },
  {
   "cell_type": "markdown",
   "id": "1cbab276",
   "metadata": {},
   "source": [
    "Analisis por dataframe\n",
    "dim_usuarios\n",
    "vemos que los campos tienen acentos corregimos y volvemos a cargar la data a la base de datos.\n"
   ]
  },
  {
   "cell_type": "code",
   "execution_count": null,
   "id": "12678645",
   "metadata": {},
   "outputs": [
    {
     "name": "stderr",
     "output_type": "stream",
     "text": [
      "C:\\Users\\emiliano.abregu\\AppData\\Local\\Temp\\ipykernel_7852\\2022045011.py:15: FutureWarning: DataFrame.applymap has been deprecated. Use DataFrame.map instead.\n",
      "  return df.applymap(remove_accents)\n"
     ]
    },
    {
     "name": "stdout",
     "output_type": "stream",
     "text": [
      "✅ Datos insertados correctamente.\n"
     ]
    }
   ],
   "source": [
    "\n",
    "import pandas as pd\n",
    "import unicodedata\n",
    "from sqlalchemy import create_engine\n",
    "\n",
    "print(df_usuarios.head())\n",
    "\n",
    "# Función para eliminar acentos\n",
    "def remove_accents(text):\n",
    "    if isinstance(text, str):\n",
    "        nfkd_form = unicodedata.normalize('NFKD', text)\n",
    "        return ''.join([c for c in nfkd_form if not unicodedata.combining(c)])\n",
    "    return text\n",
    "\n",
    "# Aplicar la limpieza a todo el DataFrame\n",
    "def clean_dataframe_accents(df):\n",
    "    return df.applymap(remove_accents)\n",
    "\n",
    "\n",
    "# Limpiar el DataFrame\n",
    "df_clean = clean_dataframe_accents(df_usuarios)\n",
    "\n",
    "\n",
    "# Guardar el DataFrame limpio en la base de datos\n",
    "try:\n",
    "    df_clean.to_sql('dim_usuarios', con=engine, if_exists='replace', index=False)\n",
    "    print(\"✅ Datos insertados correctamente.\")\n",
    "except Exception as e:\n",
    "    print(\"❌ Error al insertar:\")\n",
    "    print(e)\n",
    "\n"
   ]
  },
  {
   "cell_type": "markdown",
   "id": "6831d74d",
   "metadata": {},
   "source": [
    "Analisis fact_carrito nos aseguramos que los datos numericos sean 100% numericos."
   ]
  },
  {
   "cell_type": "code",
   "execution_count": 31,
   "id": "c573106d",
   "metadata": {},
   "outputs": [
    {
     "data": {
      "application/vnd.microsoft.datawrangler.viewer.v0+json": {
       "columns": [
        {
         "name": "index",
         "rawType": "int64",
         "type": "integer"
        },
        {
         "name": "Column",
         "rawType": "float64",
         "type": "float"
        },
        {
         "name": "Weird_Values",
         "rawType": "float64",
         "type": "float"
        }
       ],
       "ref": "b11fe2bb-3bd1-41bf-b449-00fa0031cc0d",
       "rows": [],
       "shape": {
        "columns": 2,
        "rows": 0
       }
      },
      "text/html": [
       "<div>\n",
       "<style scoped>\n",
       "    .dataframe tbody tr th:only-of-type {\n",
       "        vertical-align: middle;\n",
       "    }\n",
       "\n",
       "    .dataframe tbody tr th {\n",
       "        vertical-align: top;\n",
       "    }\n",
       "\n",
       "    .dataframe thead th {\n",
       "        text-align: right;\n",
       "    }\n",
       "</style>\n",
       "<table border=\"1\" class=\"dataframe\">\n",
       "  <thead>\n",
       "    <tr style=\"text-align: right;\">\n",
       "      <th></th>\n",
       "      <th>Column</th>\n",
       "      <th>Weird_Values</th>\n",
       "    </tr>\n",
       "  </thead>\n",
       "  <tbody>\n",
       "  </tbody>\n",
       "</table>\n",
       "</div>"
      ],
      "text/plain": [
       "Empty DataFrame\n",
       "Columns: [Column, Weird_Values]\n",
       "Index: []"
      ]
     },
     "execution_count": 31,
     "metadata": {},
     "output_type": "execute_result"
    }
   ],
   "source": [
    "find_weird_values_for_columns(df_carrito, [\"usuario_id\",\"producto_id\",\"cantidad\"])"
   ]
  },
  {
   "cell_type": "markdown",
   "id": "d9138b4e",
   "metadata": {},
   "source": [
    "Analisis fact_detalle_ordenes nos aseguramos que los datos numericos sean 100% numericos. "
   ]
  },
  {
   "cell_type": "code",
   "execution_count": 32,
   "id": "0d1d4e13",
   "metadata": {},
   "outputs": [
    {
     "data": {
      "application/vnd.microsoft.datawrangler.viewer.v0+json": {
       "columns": [
        {
         "name": "index",
         "rawType": "int64",
         "type": "integer"
        },
        {
         "name": "Column",
         "rawType": "float64",
         "type": "float"
        },
        {
         "name": "Weird_Values",
         "rawType": "float64",
         "type": "float"
        }
       ],
       "ref": "3016fcf9-9e23-4815-93ed-8882444298dd",
       "rows": [],
       "shape": {
        "columns": 2,
        "rows": 0
       }
      },
      "text/html": [
       "<div>\n",
       "<style scoped>\n",
       "    .dataframe tbody tr th:only-of-type {\n",
       "        vertical-align: middle;\n",
       "    }\n",
       "\n",
       "    .dataframe tbody tr th {\n",
       "        vertical-align: top;\n",
       "    }\n",
       "\n",
       "    .dataframe thead th {\n",
       "        text-align: right;\n",
       "    }\n",
       "</style>\n",
       "<table border=\"1\" class=\"dataframe\">\n",
       "  <thead>\n",
       "    <tr style=\"text-align: right;\">\n",
       "      <th></th>\n",
       "      <th>Column</th>\n",
       "      <th>Weird_Values</th>\n",
       "    </tr>\n",
       "  </thead>\n",
       "  <tbody>\n",
       "  </tbody>\n",
       "</table>\n",
       "</div>"
      ],
      "text/plain": [
       "Empty DataFrame\n",
       "Columns: [Column, Weird_Values]\n",
       "Index: []"
      ]
     },
     "execution_count": 32,
     "metadata": {},
     "output_type": "execute_result"
    }
   ],
   "source": [
    "find_weird_values_for_columns(df_detalle_ordenes, [\"orden_id\",\"producto_id\",\"cantidad\",\"precio_unitario\"])"
   ]
  },
  {
   "cell_type": "markdown",
   "id": "44cc013d",
   "metadata": {},
   "source": [
    "Analisis dim_direcciones_envio vemos que los campos tienen acentos corregimos y volvemos a cargar la data a la base de datos."
   ]
  },
  {
   "cell_type": "code",
   "execution_count": null,
   "id": "d74d3011",
   "metadata": {},
   "outputs": [
    {
     "name": "stderr",
     "output_type": "stream",
     "text": [
      "C:\\Users\\emiliano.abregu\\AppData\\Local\\Temp\\ipykernel_7852\\2022045011.py:15: FutureWarning: DataFrame.applymap has been deprecated. Use DataFrame.map instead.\n",
      "  return df.applymap(remove_accents)\n"
     ]
    },
    {
     "name": "stdout",
     "output_type": "stream",
     "text": [
      "✅ Datos insertados correctamente.\n"
     ]
    }
   ],
   "source": [
    "df_clean = clean_dataframe_accents(df_direcciones_envio)\n",
    "\n",
    "\n",
    "# Guardar el DataFrame limpio en la base de datos\n",
    "try:\n",
    "    df_clean.to_sql('dim_direcciones_envio', con=engine, if_exists='replace', index=False)\n",
    "    print(\"✅ Datos insertados correctamente.\")\n",
    "except Exception as e:\n",
    "    print(\"❌ Error al insertar:\")\n",
    "    print(e)"
   ]
  },
  {
   "cell_type": "markdown",
   "id": "966eb8fd",
   "metadata": {},
   "source": [
    "Analisis fact_historial_pagos nos aseguramos que los datos numericos sean 100% numericos.  "
   ]
  },
  {
   "cell_type": "code",
   "execution_count": 34,
   "id": "5731185b",
   "metadata": {},
   "outputs": [
    {
     "data": {
      "application/vnd.microsoft.datawrangler.viewer.v0+json": {
       "columns": [
        {
         "name": "index",
         "rawType": "int64",
         "type": "integer"
        },
        {
         "name": "Column",
         "rawType": "float64",
         "type": "float"
        },
        {
         "name": "Weird_Values",
         "rawType": "float64",
         "type": "float"
        }
       ],
       "ref": "f3a4c6e2-2c37-492c-8fad-c1714bab6fb3",
       "rows": [],
       "shape": {
        "columns": 2,
        "rows": 0
       }
      },
      "text/html": [
       "<div>\n",
       "<style scoped>\n",
       "    .dataframe tbody tr th:only-of-type {\n",
       "        vertical-align: middle;\n",
       "    }\n",
       "\n",
       "    .dataframe tbody tr th {\n",
       "        vertical-align: top;\n",
       "    }\n",
       "\n",
       "    .dataframe thead th {\n",
       "        text-align: right;\n",
       "    }\n",
       "</style>\n",
       "<table border=\"1\" class=\"dataframe\">\n",
       "  <thead>\n",
       "    <tr style=\"text-align: right;\">\n",
       "      <th></th>\n",
       "      <th>Column</th>\n",
       "      <th>Weird_Values</th>\n",
       "    </tr>\n",
       "  </thead>\n",
       "  <tbody>\n",
       "  </tbody>\n",
       "</table>\n",
       "</div>"
      ],
      "text/plain": [
       "Empty DataFrame\n",
       "Columns: [Column, Weird_Values]\n",
       "Index: []"
      ]
     },
     "execution_count": 34,
     "metadata": {},
     "output_type": "execute_result"
    }
   ],
   "source": [
    "find_weird_values_for_columns(df_historial_pagos, [\"orden_id\",\"metodo_pago_id\",\"monto\"])"
   ]
  },
  {
   "cell_type": "markdown",
   "id": "755ff7de",
   "metadata": {},
   "source": [
    "Analisis fact_ordenes nos aseguramos que los datos numericos sean 100% numericos.   "
   ]
  },
  {
   "cell_type": "code",
   "execution_count": 37,
   "id": "d64bd74b",
   "metadata": {},
   "outputs": [
    {
     "data": {
      "application/vnd.microsoft.datawrangler.viewer.v0+json": {
       "columns": [
        {
         "name": "index",
         "rawType": "int64",
         "type": "integer"
        },
        {
         "name": "Column",
         "rawType": "float64",
         "type": "float"
        },
        {
         "name": "Weird_Values",
         "rawType": "float64",
         "type": "float"
        }
       ],
       "ref": "f4c223ec-34e9-4e59-b052-e40752b9fb67",
       "rows": [],
       "shape": {
        "columns": 2,
        "rows": 0
       }
      },
      "text/html": [
       "<div>\n",
       "<style scoped>\n",
       "    .dataframe tbody tr th:only-of-type {\n",
       "        vertical-align: middle;\n",
       "    }\n",
       "\n",
       "    .dataframe tbody tr th {\n",
       "        vertical-align: top;\n",
       "    }\n",
       "\n",
       "    .dataframe thead th {\n",
       "        text-align: right;\n",
       "    }\n",
       "</style>\n",
       "<table border=\"1\" class=\"dataframe\">\n",
       "  <thead>\n",
       "    <tr style=\"text-align: right;\">\n",
       "      <th></th>\n",
       "      <th>Column</th>\n",
       "      <th>Weird_Values</th>\n",
       "    </tr>\n",
       "  </thead>\n",
       "  <tbody>\n",
       "  </tbody>\n",
       "</table>\n",
       "</div>"
      ],
      "text/plain": [
       "Empty DataFrame\n",
       "Columns: [Column, Weird_Values]\n",
       "Index: []"
      ]
     },
     "execution_count": 37,
     "metadata": {},
     "output_type": "execute_result"
    }
   ],
   "source": [
    "find_weird_values_for_columns(df_ordenes, [\"total\"])"
   ]
  },
  {
   "cell_type": "markdown",
   "id": "2ac05a1f",
   "metadata": {},
   "source": [
    "Analisis fact_ordenes_metodo_pago nos aseguramos que los datos numericos sean 100% numericos.    "
   ]
  },
  {
   "cell_type": "code",
   "execution_count": 38,
   "id": "69476ff9",
   "metadata": {},
   "outputs": [
    {
     "data": {
      "application/vnd.microsoft.datawrangler.viewer.v0+json": {
       "columns": [
        {
         "name": "index",
         "rawType": "int64",
         "type": "integer"
        },
        {
         "name": "Column",
         "rawType": "float64",
         "type": "float"
        },
        {
         "name": "Weird_Values",
         "rawType": "float64",
         "type": "float"
        }
       ],
       "ref": "c5b43b6f-ce29-4bcc-a914-4516addc6c4b",
       "rows": [],
       "shape": {
        "columns": 2,
        "rows": 0
       }
      },
      "text/html": [
       "<div>\n",
       "<style scoped>\n",
       "    .dataframe tbody tr th:only-of-type {\n",
       "        vertical-align: middle;\n",
       "    }\n",
       "\n",
       "    .dataframe tbody tr th {\n",
       "        vertical-align: top;\n",
       "    }\n",
       "\n",
       "    .dataframe thead th {\n",
       "        text-align: right;\n",
       "    }\n",
       "</style>\n",
       "<table border=\"1\" class=\"dataframe\">\n",
       "  <thead>\n",
       "    <tr style=\"text-align: right;\">\n",
       "      <th></th>\n",
       "      <th>Column</th>\n",
       "      <th>Weird_Values</th>\n",
       "    </tr>\n",
       "  </thead>\n",
       "  <tbody>\n",
       "  </tbody>\n",
       "</table>\n",
       "</div>"
      ],
      "text/plain": [
       "Empty DataFrame\n",
       "Columns: [Column, Weird_Values]\n",
       "Index: []"
      ]
     },
     "execution_count": 38,
     "metadata": {},
     "output_type": "execute_result"
    }
   ],
   "source": [
    "find_weird_values_for_columns(df_ordenes_metodo_pago, [\"monto_pagado\",\"metodo_pago_id\"])"
   ]
  }
 ],
 "metadata": {
  "kernelspec": {
   "display_name": "Python 3",
   "language": "python",
   "name": "python3"
  },
  "language_info": {
   "codemirror_mode": {
    "name": "ipython",
    "version": 3
   },
   "file_extension": ".py",
   "mimetype": "text/x-python",
   "name": "python",
   "nbconvert_exporter": "python",
   "pygments_lexer": "ipython3",
   "version": "3.13.5"
  }
 },
 "nbformat": 4,
 "nbformat_minor": 5
}
